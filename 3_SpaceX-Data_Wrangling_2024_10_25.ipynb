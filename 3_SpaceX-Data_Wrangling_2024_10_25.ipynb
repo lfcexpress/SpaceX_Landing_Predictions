import piplite
await piplite.install(['numpy'])
await piplite.install(['pandas'])

# Pandas is a software library written for the Python programming language for data manipulation and analysis.
import pandas as pd
#NumPy is a library for the Python programming language, adding support for large, multi-dimensional arrays and matrices, along with a large collection of high-level mathematical functions to operate on these arrays
import numpy as np

from js import fetch
import io

URL = 'https://cf-courses-data.s3.us.cloud-object-storage.appdomain.cloud/IBM-DS0321EN-SkillsNetwork/datasets/dataset_part_1.csv'
resp = await fetch(URL)
dataset_part_1_csv = io.BytesIO((await resp.arrayBuffer()).to_py())

df.isnull().sum()/df.count()*100

# Apply value_counts() on column LaunchSite
launches = df['LaunchSite'].value_counts()
launches

# Apply value_counts on Orbit column
occurence = df['Orbit'].value_counts()
occurrence

# landing_outcomes = values on Outcome column
landing_outcomes = df['Outcome'].value_counts()
landing_outcomes


for i,outcome in enumerate(landing_outcomes.keys()):
    print(i,outcome)

bad_outcomes=set(landing_outcomes.keys()[[1,3,5,6,7]])
bad_outcomes

# landing_class = 0 if bad_outcome
# landing_class = 1 otherwise
df['Class'] = df['Outcome'].apply(lambda x: 0 if x in bad_outcomes else 1)
df['Class'].value_counts()

landing_class=df['Class']
df[['Class']].head(8)